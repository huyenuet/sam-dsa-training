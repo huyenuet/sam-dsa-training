{
 "cells": [
  {
   "cell_type": "markdown",
   "metadata": {
    "graffitiCellId": "id_nc90xut"
   },
   "source": [
    "# Factorial"
   ]
  },
  {
   "cell_type": "markdown",
   "metadata": {
    "graffitiCellId": "id_vwt24bz"
   },
   "source": [
    "Factorial is a mathematical function that takes in n, where n >= 0\n",
    "          with output (n) x (n-1) x (n-2) x ... x 1\n",
    "\n",
    "Factorial is often denoted to by an exclamation point n! in mathematics.\n",
    "\n",
    "By definition, 0! = 1\n",
    "\n",
    "Note that: factorial(n) = n * factorial(n-1)"
   ]
  },
  {
   "cell_type": "code",
   "execution_count": null,
   "metadata": {
    "graffitiCellId": "id_aryl3on"
   },
   "outputs": [],
   "source": [
    "# Code\n",
    "\n",
    "def factorial(n):\n",
    "    \"\"\"\n",
    "    Calculate n!\n",
    "    \n",
    "    Args:\n",
    "       n(int): factorial to be computed\n",
    "    Returns:\n",
    "       n!\n",
    "    \"\"\"\n",
    "    pass"
   ]
  },
  {
   "cell_type": "code",
   "execution_count": null,
   "metadata": {
    "graffitiCellId": "id_jzvxayg"
   },
   "outputs": [],
   "source": [
    "# Test Cases\n",
    "\n",
    "print (\"Pass\" if (1 == factorial(0)) else \"Fail\")\n",
    "print (\"Pass\" if  (1 == factorial(1)) else \"Fail\")\n",
    "print (\"Pass\" if  (120 == factorial(5)) else \"Fail\")"
   ]
  },
  {
   "cell_type": "markdown",
   "metadata": {
    "graffitiCellId": "id_hfidq8t"
   },
   "source": [
    "<span class=\"graffiti-highlight graffiti-id_hfidq8t-id_ok8sbqr\"><i></i><button>Show Solution</button></span>"
   ]
  }
 ],
 "metadata": {
  "graffiti": {
   "firstAuthorId": "10694620118",
   "id": "id_q1h5fuv",
   "language": "EN"
  },
  "kernelspec": {
   "display_name": "Python 3",
   "language": "python",
   "name": "python3"
  },
  "language_info": {
   "codemirror_mode": {
    "name": "ipython",
    "version": 3
   },
   "file_extension": ".py",
   "mimetype": "text/x-python",
   "name": "python",
   "nbconvert_exporter": "python",
   "pygments_lexer": "ipython3",
   "version": "3.6.3"
  }
 },
 "nbformat": 4,
 "nbformat_minor": 2
}
