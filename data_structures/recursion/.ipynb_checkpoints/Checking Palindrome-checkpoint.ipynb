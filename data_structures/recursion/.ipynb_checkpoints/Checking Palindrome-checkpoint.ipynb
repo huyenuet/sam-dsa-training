{
 "cells": [
  {
   "cell_type": "markdown",
   "metadata": {
    "graffitiCellId": "id_0635rqb"
   },
   "source": [
    "# Palindrome"
   ]
  },
  {
   "cell_type": "markdown",
   "metadata": {
    "graffitiCellId": "id_5r6hrt5"
   },
   "source": [
    "What s a palindrome?\n",
    "\n",
    "A palindrome is a word that its reverse is itself.\n",
    "\n",
    "For instance,\n",
    "\n",
    "-  \"madam\" is a palindrome\n",
    " \n",
    "- \"abba\" is a palindrome\n",
    "-  \"cat\" is not\n",
    "-  \"a\" is a trivial case of palindrome"
   ]
  },
  {
   "cell_type": "code",
   "execution_count": 1,
   "metadata": {
    "graffitiCellId": "id_35uigpa"
   },
   "outputs": [],
   "source": [
    "def is_palindrome(input):\n",
    "    \"\"\"\n",
    "    Return True if input is palindrome, False otherwise.\n",
    "    \n",
    "    Args:\n",
    "       input(str): input to be checked if it is palindrome\n",
    "    \"\"\"\n",
    "    pass\n",
    "        "
   ]
  },
  {
   "cell_type": "code",
   "execution_count": null,
   "metadata": {
    "graffitiCellId": "id_p59j5se"
   },
   "outputs": [],
   "source": [
    "# Base case: empty string\n",
    "input = \"\"\n",
    "\n",
    "if is_palindrome(input):\n",
    "    print(\"Yay '{}' is a palindrome\".format(input))\n",
    "else:\n",
    "    print(\"Please try again\")"
   ]
  },
  {
   "cell_type": "code",
   "execution_count": 9,
   "metadata": {
    "graffitiCellId": "id_yq0wgly"
   },
   "outputs": [
    {
     "name": "stdout",
     "output_type": "stream",
     "text": [
      "Yay 'a' is a palindrome\n"
     ]
    }
   ],
   "source": [
    "# Base case 2: a single character\n",
    "input = \"a\"\n",
    "\n",
    "if is_palindrome(input):\n",
    "    print(\"Yay '{}' is a palindrome\".format(input))\n",
    "else:\n",
    "    print(\"Please try again\")"
   ]
  },
  {
   "cell_type": "code",
   "execution_count": 10,
   "metadata": {
    "graffitiCellId": "id_8nml0cf"
   },
   "outputs": [
    {
     "name": "stdout",
     "output_type": "stream",
     "text": [
      "Yay 'madam' is a palindrome\n"
     ]
    }
   ],
   "source": [
    "# Recursive case\n",
    "\n",
    "input = \"madam\"\n",
    "\n",
    "if is_palindrome(input):\n",
    "    print(\"Yay '{}' is a palindrome\".format(input))\n",
    "else:\n",
    "    print(\"Please try again\")"
   ]
  },
  {
   "cell_type": "code",
   "execution_count": 11,
   "metadata": {
    "graffitiCellId": "id_hdmun9m"
   },
   "outputs": [
    {
     "name": "stdout",
     "output_type": "stream",
     "text": [
      "Yay 'abba' is a palindrome\n"
     ]
    }
   ],
   "source": [
    "# Recursive case\n",
    "\n",
    "input = \"abba\"\n",
    "\n",
    "if is_palindrome(input):\n",
    "    print(\"Yay '{}' is a palindrome\".format(input))\n",
    "else:\n",
    "    print(\"Please try again\")"
   ]
  },
  {
   "cell_type": "code",
   "execution_count": 12,
   "metadata": {
    "graffitiCellId": "id_cg67j3c"
   },
   "outputs": [
    {
     "name": "stdout",
     "output_type": "stream",
     "text": [
      "Yay 'cat' is not a palindrome\n"
     ]
    }
   ],
   "source": [
    "# Recursive case\n",
    "\n",
    "input = \"cat\"\n",
    "\n",
    "if not is_palindrome(input):\n",
    "    print(\"Yay '{}' is not a palindrome\".format(input))\n",
    "else:\n",
    "    print(\"Please try again\")"
   ]
  },
  {
   "cell_type": "markdown",
   "metadata": {
    "graffitiCellId": "id_ee1lw7k"
   },
   "source": [
    "<span class=\"graffiti-highlight graffiti-id_ee1lw7k-id_thsd6ig\"><i></i><button class=\"btn btn-default\" title=\"Show me\">Show me how to solve this!</button></span>"
   ]
  }
 ],
 "metadata": {
  "graffiti": {
   "firstAuthorId": "10694620118",
   "id": "id_vgdsias",
   "language": "EN"
  },
  "kernelspec": {
   "display_name": "Python 3",
   "language": "python",
   "name": "python3"
  },
  "language_info": {
   "codemirror_mode": {
    "name": "ipython",
    "version": 3
   },
   "file_extension": ".py",
   "mimetype": "text/x-python",
   "name": "python",
   "nbconvert_exporter": "python",
   "pygments_lexer": "ipython3",
   "version": "3.6.3"
  }
 },
 "nbformat": 4,
 "nbformat_minor": 2
}
