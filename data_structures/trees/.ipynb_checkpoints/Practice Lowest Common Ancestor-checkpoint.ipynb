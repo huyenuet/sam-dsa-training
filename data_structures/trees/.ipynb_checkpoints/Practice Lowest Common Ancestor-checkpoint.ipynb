{
 "cells": [
  {
   "cell_type": "markdown",
   "metadata": {
    "graffitiCellId": "id_h0wzms7"
   },
   "source": [
    "# Lowest Common Ancestor"
   ]
  },
  {
   "cell_type": "markdown",
   "metadata": {
    "graffitiCellId": "id_hxmwgrx"
   },
   "source": [
    "Find the lowest common ancestor of two nodes in the tree.\n",
    "\n",
    "Lowest common ancestor is the loweest node in which the two provided nodes are decendents. For example in the tree below the selected nodes of 1 and 6 give us a lowest common ancestor of 5 as its the lowest amount in which both nodes are decendents.\n",
    "\n",
    "\n",
    "Given the following binary tree:\n",
    "\n",
    "        5\n",
    "       / \\\n",
    "      2   6\n",
    "     / \\\n",
    "    1   3\n",
    "         \\\n",
    "          4\n",
    "          "
   ]
  },
  {
   "cell_type": "markdown",
   "metadata": {
    "graffitiCellId": "id_batlxjk"
   },
   "source": [
    "#### Try finding the Lowest Common Ancestor"
   ]
  },
  {
   "cell_type": "code",
   "execution_count": null,
   "metadata": {
    "collapsed": true,
    "graffitiCellId": "id_qck3nfd"
   },
   "outputs": [],
   "source": [
    "def lowest_common_ancestor(node):\n",
    "    \"\"\"\n",
    "    Determine the lowest common ancestor\n",
    "\n",
    "    Args:\n",
    "       tree(object): A BST object\n",
    "    Returns:\n",
    "       int: Lowest shared ancestor\n",
    "    \"\"\"\n",
    "    pass"
   ]
  },
  {
   "cell_type": "markdown",
   "metadata": {
    "graffitiCellId": "id_gzaaul9"
   },
   "source": [
    "#### Test Cases"
   ]
  },
  {
   "cell_type": "code",
   "execution_count": null,
   "metadata": {
    "collapsed": true,
    "graffitiCellId": "id_bfjg2om"
   },
   "outputs": [],
   "source": [
    "class Tree:\n",
    "    def __init__(self, value, left = None, right = None):\n",
    "        self.left = left\n",
    "        self.right = right\n",
    "        self.value = value\n",
    "\n",
    "    def __str__(self):\n",
    "        return str(self.value)\n",
    "        \n",
    "f = Tree(4)\n",
    "e = Tree(3, None, f)\n",
    "\n",
    "d = Tree(1)\n",
    "b = Tree(2, d, e)\n",
    "\n",
    "c = Tree(6)\n",
    "a = Tree(5, b, c)\n",
    "\n",
    "my_tree = a\n",
    "\n",
    "print (\"Pass\" if 2 == lowest_common_ancestor(my_tree, 1, 4) else \"Fail\")"
   ]
  },
  {
   "cell_type": "markdown",
   "metadata": {
    "graffitiCellId": "id_81g8fov"
   },
   "source": [
    "<span class=\"graffiti-highlight graffiti-id_81g8fov-id_66owmsz\"><i></i><button>Show Solution</button></span>"
   ]
  }
 ],
 "metadata": {
  "graffiti": {
   "firstAuthorId": "10694620118",
   "id": "id_qc4rwa8",
   "language": "EN"
  },
  "kernelspec": {
   "display_name": "Python 3",
   "language": "python",
   "name": "python3"
  },
  "language_info": {
   "codemirror_mode": {
    "name": "ipython",
    "version": 3
   },
   "file_extension": ".py",
   "mimetype": "text/x-python",
   "name": "python",
   "nbconvert_exporter": "python",
   "pygments_lexer": "ipython3",
   "version": "3.6.3"
  },
  "widgets": {
   "state": {},
   "version": "1.1.2"
  }
 },
 "nbformat": 4,
 "nbformat_minor": 2
}
