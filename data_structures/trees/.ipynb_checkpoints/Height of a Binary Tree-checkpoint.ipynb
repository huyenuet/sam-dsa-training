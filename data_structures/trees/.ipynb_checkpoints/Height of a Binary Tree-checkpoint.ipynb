{
 "cells": [
  {
   "cell_type": "markdown",
   "metadata": {
    "graffitiCellId": "id_i3wdz4v"
   },
   "source": [
    "# Height of a Binary Tree"
   ]
  },
  {
   "cell_type": "markdown",
   "metadata": {
    "graffitiCellId": "id_ulgchp5"
   },
   "source": [
    "Write a function to find the height of this binary tree!\n",
    "\n",
    "        A\n",
    "       / \\\n",
    "      B   C\n",
    "     / \\\n",
    "    D   E\n",
    "         \\\n",
    "          F\n"
   ]
  },
  {
   "cell_type": "markdown",
   "metadata": {
    "graffitiCellId": "id_108ln8a"
   },
   "source": [
    "#### Try finding the height of the Binary Tree"
   ]
  },
  {
   "cell_type": "code",
   "execution_count": null,
   "metadata": {
    "graffitiCellId": "id_vdpfxbn"
   },
   "outputs": [],
   "source": [
    "def Binary_Tree_Height(tree):\n",
    "    \"\"\"\n",
    "    Find the height of a binary tree\n",
    "\n",
    "    Args:\n",
    "       tree(object): Input binary tree\n",
    "    Returns:\n",
    "       int: The height of the tree\n",
    "    \"\"\"\n",
    "    pass"
   ]
  },
  {
   "cell_type": "markdown",
   "metadata": {
    "graffitiCellId": "id_mfba4ms"
   },
   "source": [
    "#### Test Case"
   ]
  },
  {
   "cell_type": "code",
   "execution_count": null,
   "metadata": {
    "graffitiCellId": "id_a0l3vv1"
   },
   "outputs": [],
   "source": [
    "class Tree:\n",
    "    def __init__(self, value, left = None, right = None):\n",
    "        self.left = left\n",
    "        self.right = right\n",
    "        self.value = value\n",
    "\n",
    "    def __str__(self):\n",
    "        return str(self.value)\n",
    "        \n",
    "f = Tree(\"F\")\n",
    "e = Tree(\"E\", None, f)\n",
    "\n",
    "d = Tree(\"D\")\n",
    "b = Tree(\"B\", d, e)\n",
    "\n",
    "c = Tree(\"C\")\n",
    "a = Tree(\"A\", b, c)\n",
    "\n",
    "my_tree = a\n",
    "\n",
    "print (\"Pass\" if (4 == Binary_Tree_Height(my_tree)) else \"Fail\")"
   ]
  },
  {
   "cell_type": "markdown",
   "metadata": {
    "graffitiCellId": "id_h1x9ai7"
   },
   "source": [
    "<span class=\"graffiti-highlight graffiti-id_h1x9ai7-id_4nj76q3\"><i></i><button>Show Solution</button></span>"
   ]
  }
 ],
 "metadata": {
  "graffiti": {
   "firstAuthorId": "10694620118",
   "id": "id_n98z73r",
   "language": "EN"
  },
  "kernelspec": {
   "display_name": "Python 3",
   "language": "python",
   "name": "python3"
  },
  "language_info": {
   "codemirror_mode": {
    "name": "ipython",
    "version": 3
   },
   "file_extension": ".py",
   "mimetype": "text/x-python",
   "name": "python",
   "nbconvert_exporter": "python",
   "pygments_lexer": "ipython3",
   "version": "3.6.3"
  },
  "widgets": {
   "state": {},
   "version": "1.1.2"
  }
 },
 "nbformat": 4,
 "nbformat_minor": 2
}
