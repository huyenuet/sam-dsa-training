{
 "cells": [
  {
   "cell_type": "markdown",
   "metadata": {
    "graffitiCellId": "id_m68xy4n"
   },
   "source": [
    "# BST Check"
   ]
  },
  {
   "cell_type": "markdown",
   "metadata": {
    "graffitiCellId": "id_ng63k6p"
   },
   "source": [
    "Write a function to determine whether or not the input tree is a binary search tree.\n",
    "\n",
    "        5\n",
    "       / \\\n",
    "      2   6\n",
    "     / \\\n",
    "    1   3\n",
    "         \\\n",
    "          4\n",
    "          \n",
    "\n",
    "Assumptions:\n",
    "- Values bound by 0 < n < 100"
   ]
  },
  {
   "cell_type": "markdown",
   "metadata": {
    "graffitiCellId": "id_wf1jo84"
   },
   "source": [
    "#### Try Checking if it's a BST"
   ]
  },
  {
   "cell_type": "code",
   "execution_count": 1,
   "metadata": {
    "graffitiCellId": "id_yq1t6d6"
   },
   "outputs": [],
   "source": [
    "def check_BST(tree):\n",
    "    \"\"\"\n",
    "    Determine wether the input is a binary tree or not\n",
    "\n",
    "    Args:\n",
    "       tree(object): A BST object\n",
    "    Returns:\n",
    "       bool: True if it is a BST and False if not\n",
    "    \"\"\"\n",
    "    \n",
    "    # TODO: Implement BST check function\n",
    "    \n",
    "    if tree.right:\n",
    "        if tree.right.value < tree.value:\n",
    "            return False\n",
    "        else:\n",
    "            check_BST(tree.right)\n",
    "    if tree.left:\n",
    "        if tree.left.value > tree.value:\n",
    "            return False\n",
    "        else:\n",
    "            check_BST(tree.left)\n",
    "    return True"
   ]
  },
  {
   "cell_type": "markdown",
   "metadata": {
    "graffitiCellId": "id_tnn8rcw"
   },
   "source": [
    "#### Test Cases"
   ]
  },
  {
   "cell_type": "code",
   "execution_count": 7,
   "metadata": {
    "graffitiCellId": "id_3lx5k29"
   },
   "outputs": [
    {
     "name": "stdout",
     "output_type": "stream",
     "text": [
      "Pass\n"
     ]
    }
   ],
   "source": [
    "class Tree:\n",
    "    def __init__(self, value, left = None, right = None):\n",
    "        self.left = left\n",
    "        self.right = right\n",
    "        self.value = value\n",
    "\n",
    "    def __str__(self):\n",
    "        return str(self.value)\n",
    "        \n",
    "# f = Tree(4)\n",
    "# e = Tree(3, None, f)\n",
    "\n",
    "# d = Tree(1)\n",
    "# b = Tree(2, d, e)\n",
    "\n",
    "# c = Tree(6)\n",
    "# a = Tree(5, b, c)\n",
    "\n",
    "# my_tree = a\n",
    "d = Tree(1)\n",
    "e = Tree(4)\n",
    "f = Tree(5)\n",
    "a = Tree(2, d, e)\n",
    "b = Tree(3, a, f)\n",
    "my_tree = b\n",
    "\n",
    "print (\"Pass\" if check_BST(my_tree) else \"Fail\")"
   ]
  },
  {
   "cell_type": "markdown",
   "metadata": {
    "graffitiCellId": "id_ni2nnmb"
   },
   "source": [
    "<span class=\"graffiti-highlight graffiti-id_ni2nnmb-id_4u7n724\"><i></i><button>Show Solution</button></span>"
   ]
  }
 ],
 "metadata": {
  "graffiti": {
   "firstAuthorId": "10694620118",
   "id": "id_n0w19rn",
   "language": "EN"
  },
  "kernelspec": {
   "display_name": "Python 3",
   "language": "python",
   "name": "python3"
  },
  "language_info": {
   "codemirror_mode": {
    "name": "ipython",
    "version": 3
   },
   "file_extension": ".py",
   "mimetype": "text/x-python",
   "name": "python",
   "nbconvert_exporter": "python",
   "pygments_lexer": "ipython3",
   "version": "3.7.7"
  },
  "widgets": {
   "state": {},
   "version": "1.1.2"
  }
 },
 "nbformat": 4,
 "nbformat_minor": 2
}
