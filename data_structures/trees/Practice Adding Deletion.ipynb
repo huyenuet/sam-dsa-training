{
 "cells": [
  {
   "cell_type": "markdown",
   "metadata": {
    "graffitiCellId": "id_d94vwl1"
   },
   "source": [
    "# Practicing Adding Deletion"
   ]
  },
  {
   "cell_type": "markdown",
   "metadata": {
    "graffitiCellId": "id_fr0841w"
   },
   "source": [
    "You have just added the abiliy to insert and search on the tree lets take it one step farther by having you add the ability to delete of the tree as well. "
   ]
  },
  {
   "cell_type": "markdown",
   "metadata": {
    "graffitiCellId": "id_icxdmpp"
   },
   "source": [
    "#### Try it "
   ]
  },
  {
   "cell_type": "code",
   "execution_count": null,
   "metadata": {
    "collapsed": true,
    "graffitiCellId": "id_u2x661f"
   },
   "outputs": [],
   "source": [
    "class Node(object):\n",
    "    def __init__(self, value):\n",
    "        self.value = value\n",
    "        self.left = None\n",
    "        self.right = None\n",
    "\n",
    "class BST(object):\n",
    "    def __init__(self, root):\n",
    "        self.root = Node(root)\n",
    "\n",
    "    def insert(self, new_val):\n",
    "        # Use your old insert function\n",
    "        pass\n",
    "\n",
    "    def search(self, find_val):\n",
    "        # Use your old search function\n",
    "        return False\n",
    "    \n",
    "    def delete(self, del_val):\n",
    "        # TODO: Implement a delete function\n",
    "        pass"
   ]
  },
  {
   "cell_type": "markdown",
   "metadata": {
    "graffitiCellId": "id_brj73e9"
   },
   "source": [
    "#### Test Cases"
   ]
  },
  {
   "cell_type": "code",
   "execution_count": null,
   "metadata": {
    "collapsed": true,
    "graffitiCellId": "id_qqo3el0"
   },
   "outputs": [],
   "source": [
    "# Set up tree\n",
    "tree = BST(4)\n",
    "\n",
    "# Insert elements\n",
    "tree.insert(2)\n",
    "tree.insert(1)\n",
    "tree.insert(3)\n",
    "tree.insert(5)\n",
    "\n",
    "# Check search\n",
    "print (\"Pass\" if tree.search(4) else \"Fail\")\n",
    "print (\"Pass\" if not tree.search(6) else \"Fail\")\n",
    "\n",
    "# Delete elements\n",
    "tree.delete(5)\n",
    "\n",
    "# Should be False\n",
    "print (\"Pass\" if not tree.search(5) else \"Fail\")\n"
   ]
  },
  {
   "cell_type": "markdown",
   "metadata": {
    "graffitiCellId": "id_guivotb"
   },
   "source": [
    "<span class=\"graffiti-highlight graffiti-id_guivotb-id_z5v0zs0\"><i></i><button>Show Solution</button></span>"
   ]
  }
 ],
 "metadata": {
  "graffiti": {
   "firstAuthorId": "10694620118",
   "id": "id_j5yddkg",
   "language": "EN"
  },
  "kernelspec": {
   "display_name": "Python 3",
   "language": "python",
   "name": "python3"
  },
  "language_info": {
   "codemirror_mode": {
    "name": "ipython",
    "version": 3
   },
   "file_extension": ".py",
   "mimetype": "text/x-python",
   "name": "python",
   "nbconvert_exporter": "python",
   "pygments_lexer": "ipython3",
   "version": "3.6.3"
  },
  "widgets": {
   "state": {},
   "version": "1.1.2"
  }
 },
 "nbformat": 4,
 "nbformat_minor": 2
}
