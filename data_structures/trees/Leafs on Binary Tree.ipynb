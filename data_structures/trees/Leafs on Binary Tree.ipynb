{
 "cells": [
  {
   "cell_type": "markdown",
   "metadata": {
    "graffitiCellId": "id_w6aue5c"
   },
   "source": [
    "# Leafs on Binary Tree"
   ]
  },
  {
   "cell_type": "markdown",
   "metadata": {
    "graffitiCellId": "id_vtiso2s"
   },
   "source": [
    "Write a function to count the leafs on this binary tree. \n",
    "\n",
    "\n",
    "        A\n",
    "       / \\\n",
    "      B   C\n",
    "     / \\\n",
    "    D   E\n",
    "         \\\n",
    "          F\n",
    "\n"
   ]
  },
  {
   "cell_type": "markdown",
   "metadata": {
    "graffitiCellId": "id_c660jkr"
   },
   "source": [
    "#### Try finding the number of leafs on the Binary Tree"
   ]
  },
  {
   "cell_type": "code",
   "execution_count": 3,
   "metadata": {
    "graffitiCellId": "id_l94c0y1"
   },
   "outputs": [],
   "source": [
    "def Count_Binary_Tree_Leafs(node):\n",
    "    \"\"\"\n",
    "    Find the number of leafs on a binary tree\n",
    "\n",
    "    Args:\n",
    "       tree(object): Input binary tree\n",
    "    Returns:\n",
    "       int: The number of leafs of the tree\n",
    "    \"\"\"\n",
    "    \n",
    "    # TODO: Write function to find the number of leafs on a binary tree\n",
    "    \n",
    "    if node is None:\n",
    "        return 0\n",
    "    elif node.left is None and node.right is None:\n",
    "        return 1\n",
    "    else:\n",
    "        return Count_Binary_Tree_Leafs(node.left) + Count_Binary_Tree_Leafs(node.right)"
   ]
  },
  {
   "cell_type": "markdown",
   "metadata": {
    "graffitiCellId": "id_1z41pj8"
   },
   "source": [
    "#### Test Cases"
   ]
  },
  {
   "cell_type": "code",
   "execution_count": 4,
   "metadata": {
    "graffitiCellId": "id_0oyn7m0"
   },
   "outputs": [
    {
     "name": "stdout",
     "output_type": "stream",
     "text": [
      "Pass\n"
     ]
    }
   ],
   "source": [
    "class Tree:\n",
    "    def __init__(self, value, left = None, right = None):\n",
    "        self.left = left\n",
    "        self.right = right\n",
    "        self.value = value\n",
    "\n",
    "    def __str__(self):\n",
    "        return str(self.value)\n",
    "        \n",
    "f = Tree(\"F\")\n",
    "e = Tree(\"E\", None, f)\n",
    "\n",
    "d = Tree(\"D\")\n",
    "b = Tree(\"B\", d, e)\n",
    "\n",
    "c = Tree(\"C\")\n",
    "a = Tree(\"A\", b, c)\n",
    "\n",
    "my_tree = a\n",
    "\n",
    "print (\"Pass\" if (3 == Count_Binary_Tree_Leafs(my_tree)) else \"Fail\")"
   ]
  },
  {
   "cell_type": "markdown",
   "metadata": {
    "graffitiCellId": "id_lbj0bd5"
   },
   "source": [
    "<span class=\"graffiti-highlight graffiti-id_lbj0bd5-id_vqtuk96\"><i></i><button>Show Solution</button></span>"
   ]
  }
 ],
 "metadata": {
  "graffiti": {
   "firstAuthorId": "10694620118",
   "id": "id_pnxd1v5",
   "language": "EN"
  },
  "kernelspec": {
   "display_name": "Python 3",
   "language": "python",
   "name": "python3"
  },
  "language_info": {
   "codemirror_mode": {
    "name": "ipython",
    "version": 3
   },
   "file_extension": ".py",
   "mimetype": "text/x-python",
   "name": "python",
   "nbconvert_exporter": "python",
   "pygments_lexer": "ipython3",
   "version": "3.7.7"
  },
  "widgets": {
   "state": {},
   "version": "1.1.2"
  }
 },
 "nbformat": 4,
 "nbformat_minor": 2
}
