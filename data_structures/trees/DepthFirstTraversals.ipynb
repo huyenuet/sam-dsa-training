{
 "cells": [
  {
   "cell_type": "markdown",
   "metadata": {
    "graffitiCellId": "id_ib7z9g7"
   },
   "source": [
    "# DFS Workbook\n",
    "\n",
    "In this workbook we will try out the three main types of Depth First Binary Tree Traversal: Pre-order, In-order and Post-order.  In each of the cells below you will implement a pre, in and post order traversal of the tree by printing the node's value when you visit it.  \n",
    "\n",
    "Before we traverse anything though, we need a binary tree to traverse.  The following code creates implements a simple Tree class and creates a tree called `my_tree` with the following stucture:\n",
    "\n",
    "        A\n",
    "       / \\\n",
    "      B   C\n",
    "     / \\\n",
    "    D   E\n",
    "         \\\n",
    "          F\n"
   ]
  },
  {
   "cell_type": "code",
   "execution_count": 1,
   "metadata": {
    "graffitiCellId": "id_ylj8kgl"
   },
   "outputs": [],
   "source": [
    "class Node(object):\n",
    "    def __init__(self, value=None):\n",
    "        self.value = value\n",
    "        self.left = None\n",
    "        self.right = None\n",
    "        \n",
    "    def set_value(self,value):\n",
    "        self.value = value\n",
    "    \n",
    "    def get_value(self):\n",
    "        return self.value\n",
    "    \n",
    "    def get_left_child(self):\n",
    "        return self.left\n",
    "    \n",
    "    def get_right_child(self):\n",
    "        return self.right\n",
    "    \n",
    "    def set_left_child(self, node):\n",
    "         self.left = node\n",
    "    \n",
    "    def set_right_child(self, node):\n",
    "         self.right = node\n",
    "            \n",
    "    def has_left_child(self):\n",
    "        return self.left is not None\n",
    "            \n",
    "    def has_right_child(self):\n",
    "        return self.right is not None\n",
    "\n",
    "    def __str__(self):\n",
    "        return f\"Node({self.get_value()})\"\n",
    "\n",
    "    def __repr__(self):\n",
    "        return f\"Node({self.get_value()})\"\n",
    "\n",
    "class Tree:\n",
    "    def __init__(self, value, left = None, right = None):\n",
    "        self.left = left\n",
    "        self.right = right\n",
    "        self.value = value\n",
    "\n",
    "    def __str__(self):\n",
    "        return str(self.value)\n",
    "        \n",
    "f = Tree(\"F\")\n",
    "e = Tree(\"E\", None, f)\n",
    "\n",
    "d = Tree(\"D\")\n",
    "b = Tree(\"B\", d, e)\n",
    "\n",
    "c = Tree(\"C\")\n",
    "a = Tree(\"A\", b, c)\n",
    "\n",
    "my_tree = a\n"
   ]
  },
  {
   "cell_type": "markdown",
   "metadata": {
    "graffitiCellId": "id_0kidv9v"
   },
   "source": [
    "## Pre-Order Traversal\n",
    "\n",
    "In a pre-order traversal you visit the current node before you visit it's children.  "
   ]
  },
  {
   "cell_type": "code",
   "execution_count": null,
   "metadata": {
    "graffitiCellId": "id_fje479a"
   },
   "outputs": [],
   "source": [
    "def print_tree_preorder(tree):\n",
    "    \"\"\"\n",
    "    Implement a pre-order traversal here\n",
    "\n",
    "    Args:\n",
    "       tree(object): A binary tree input\n",
    "    Returns:\n",
    "       None\n",
    "    \"\"\"\n",
    "    \n",
    "    # TODO: Write function for pre-order traversal\n",
    "\n",
    "print_tree_preorder(my_tree)"
   ]
  },
  {
   "cell_type": "markdown",
   "metadata": {
    "graffitiCellId": "id_q57nxbm"
   },
   "source": [
    "<span class=\"graffiti-highlight graffiti-id_q57nxbm-id_pefx0xv\"><i></i><button>Show Solution</button></span>"
   ]
  },
  {
   "cell_type": "markdown",
   "metadata": {
    "graffitiCellId": "id_i3ipj0m"
   },
   "source": [
    "## In-Order Traversal\n",
    "\n",
    "In an in-order traversal you visit the left node followed by the current node, followed by the right node."
   ]
  },
  {
   "cell_type": "code",
   "execution_count": null,
   "metadata": {
    "graffitiCellId": "id_l4jz0oo"
   },
   "outputs": [],
   "source": [
    "def print_tree_inorder(tree):\n",
    "    \"\"\"\n",
    "    Implement a in-order traversal here\n",
    "\n",
    "    Args:\n",
    "       tree(object): A binary tree input\n",
    "    Returns:\n",
    "       None\n",
    "    \"\"\"\n",
    "    \n",
    "    # TODO: Write function for in-order traversal\n",
    "\n",
    "print_tree_inorder(my_tree)"
   ]
  },
  {
   "cell_type": "markdown",
   "metadata": {
    "graffitiCellId": "id_n3wrvsr"
   },
   "source": [
    "<span class=\"graffiti-highlight graffiti-id_n3wrvsr-id_koyh4dx\"><i></i><button>Show Solution</button></span>"
   ]
  },
  {
   "cell_type": "markdown",
   "metadata": {
    "graffitiCellId": "id_3e545ef"
   },
   "source": [
    "## Post-Order Traversal\n",
    "\n",
    "In a post-order traversal you visit the left and right nodes before you visit the current node."
   ]
  },
  {
   "cell_type": "code",
   "execution_count": null,
   "metadata": {
    "graffitiCellId": "id_ko1j7l5"
   },
   "outputs": [],
   "source": [
    "def print_tree_postorder(tree):\n",
    "    \"\"\"\n",
    "    Implement a post-order traversal here\n",
    "\n",
    "    Args:\n",
    "       tree(object): A binary tree input\n",
    "    Returns:\n",
    "       None\n",
    "    \"\"\"\n",
    "    \n",
    "    # TODO: Write function for post-order traversal\n",
    "\n",
    "print_tree_postorder(my_tree)"
   ]
  },
  {
   "cell_type": "markdown",
   "metadata": {
    "graffitiCellId": "id_pyn54ly"
   },
   "source": [
    "<span class=\"graffiti-highlight graffiti-id_pyn54ly-id_j6qqmfu\"><i></i><button>Show Solution</button></span>"
   ]
  }
 ],
 "metadata": {
  "graffiti": {
   "firstAuthorId": "10694620118",
   "id": "id_jk3o5zy",
   "language": "EN"
  },
  "kernelspec": {
   "display_name": "Python 3",
   "language": "python",
   "name": "python3"
  },
  "language_info": {
   "codemirror_mode": {
    "name": "ipython",
    "version": 3
   },
   "file_extension": ".py",
   "mimetype": "text/x-python",
   "name": "python",
   "nbconvert_exporter": "python",
   "pygments_lexer": "ipython3",
   "version": "3.7.7"
  }
 },
 "nbformat": 4,
 "nbformat_minor": 2
}
