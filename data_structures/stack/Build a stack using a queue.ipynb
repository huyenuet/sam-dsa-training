{
 "cells": [
  {
   "cell_type": "code",
   "execution_count": 1,
   "metadata": {},
   "outputs": [],
   "source": [
    "class LinkedListNode:\n",
    "    \n",
    "    def __init__(self, data):\n",
    "        self.data = data\n",
    "        self.next = None"
   ]
  },
  {
   "cell_type": "code",
   "execution_count": 2,
   "metadata": {},
   "outputs": [],
   "source": [
    "class Queue:\n",
    "\n",
    "    def __init__(self):\n",
    "        self.head = None\n",
    "        self.tail = None\n",
    "        self.num_elements = 0\n",
    "\n",
    "    def enqueue(self, data):\n",
    "        new_node = LinkedListNode(data)\n",
    "        if self.head is None:\n",
    "            self.head = new_node\n",
    "            self.tail = new_node\n",
    "        else:\n",
    "            self.tail.next = new_node\n",
    "            self.tail = new_node\n",
    "        self.num_elements += 1\n",
    "\n",
    "    def dequeue(self):\n",
    "        if self.is_empty():\n",
    "            return None\n",
    "        temp = self.head.data\n",
    "        self.head = self.head.next\n",
    "        self.num_elements -= 1\n",
    "        return temp\n",
    "\n",
    "    def front(self):\n",
    "        if self.head is None:\n",
    "            return None\n",
    "        return self.head.data\n",
    "\n",
    "    def size(self):\n",
    "        return self.num_elements\n",
    "\n",
    "    def is_empty(self):\n",
    "        return self.num_elements == 0\n",
    "\n"
   ]
  },
  {
   "cell_type": "code",
   "execution_count": 4,
   "metadata": {},
   "outputs": [],
   "source": [
    "class Stack:\n",
    "\n",
    "    def __init__(self):\n",
    "        self.queue = Queue()\n",
    "\n",
    "    def push(self, data):\n",
    "        self.queue.enqueue(data)\n",
    "\n",
    "    def pop(self):\n",
    "        if self.queue.is_empty():\n",
    "            return None\n",
    "        holder_queue = Queue()\n",
    "        # put everything except the last element in holder queue\n",
    "        while self.queue.size() != 1:\n",
    "            holder_queue.enqueue(self.queue.dequeue())\n",
    "        temp = self.queue.dequeue()\n",
    "\n",
    "        # put everything back into the original queue\n",
    "        while not holder_queue.is_empty():\n",
    "            self.queue.enqueue(holder_queue.dequeue())\n",
    "        return temp\n",
    "\n",
    "    def top(self):\n",
    "        if self.queue.is_empty():\n",
    "            return None\n",
    "\n",
    "        holder_queue = Queue()\n",
    "        # put everything except the last element in holder queue\n",
    "        while self.queue.size() != 1:\n",
    "            holder_queue.enqueue(self.queue.dequeue())\n",
    "        temp = self.queue.dequeue()\n",
    "\n",
    "        # put everything back to the original queue\n",
    "        while not holder_queue.is_empty():\n",
    "            self.queue.enqueue(holder_queue.dequeue())\n",
    "\n",
    "        # put back temp's value to maintain the order in which elements arrived\n",
    "        self.queue.enqueue(temp)\n",
    "        return temp\n",
    "\n",
    "    def size(self):\n",
    "        return self.queue.size()\n",
    "\n",
    "    def is_empty(self):\n",
    "        return self.queue.is_empty()"
   ]
  },
  {
   "cell_type": "code",
   "execution_count": 9,
   "metadata": {},
   "outputs": [
    {
     "name": "stdout",
     "output_type": "stream",
     "text": [
      "Pass\n",
      "Pass\n",
      "Pass\n",
      "Pass\n",
      "Pass\n",
      "Pass\n"
     ]
    }
   ],
   "source": [
    "# Setup\n",
    "stack = Stack()\n",
    "stack.push(10)\n",
    "stack.push(20)\n",
    "stack.push(30)\n",
    "stack.push(40)\n",
    "stack.push(50)\n",
    "\n",
    "# Test size\n",
    "print (\"Pass\" if (stack.size() == 5) else \"Fail\")\n",
    "\n",
    "# Test pop\n",
    "print (\"Pass\" if (stack.pop() == 50) else \"Fail\")\n",
    "\n",
    "# Test push\n",
    "stack.push(60)\n",
    "print (\"Pass\" if (stack.pop() == 60) else \"Fail\")\n",
    "print (\"Pass\" if (stack.pop() == 40) else \"Fail\")\n",
    "print (\"Pass\" if (stack.pop() == 30) else \"Fail\")\n",
    "stack.push(50)\n",
    "print (\"Pass\" if (stack.size() == 3) else \"Fail\")"
   ]
  },
  {
   "cell_type": "code",
   "execution_count": null,
   "metadata": {},
   "outputs": [],
   "source": []
  }
 ],
 "metadata": {
  "kernelspec": {
   "display_name": "Python 3",
   "language": "python",
   "name": "python3"
  },
  "language_info": {
   "codemirror_mode": {
    "name": "ipython",
    "version": 3
   },
   "file_extension": ".py",
   "mimetype": "text/x-python",
   "name": "python",
   "nbconvert_exporter": "python",
   "pygments_lexer": "ipython3",
   "version": "3.7.7"
  }
 },
 "nbformat": 4,
 "nbformat_minor": 2
}
