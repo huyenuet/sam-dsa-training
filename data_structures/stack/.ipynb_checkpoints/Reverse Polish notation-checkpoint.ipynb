{
 "cells": [
  {
   "cell_type": "markdown",
   "metadata": {},
   "source": [
    "### Problem Statement\n",
    "\n",
    "Given a `postfix` expression, calculate the final answer. \n",
    "\n",
    "`Postfix` expressions, also referred to as `Reverse Polish notation` is a way our laying out operators and operands. \n",
    "\n",
    "In mathematics, we put operators such as `+, -, *, /` between operands. For e.g. `5 + 7 - 3 * 8`\n",
    "\n",
    "However, in Reverse Polish Notation, the operators come after the operands e.g. `3 1 + 4 *`\n",
    "\n",
    "The above expression must be evaluated as `(3 + 1) * 4 = 16`\n",
    "\n",
    "*Note- In Python 3, the division operator `/` is used to perform float division. Use `int()` after every division to convert the answer to integer*"
   ]
  },
  {
   "cell_type": "code",
   "execution_count": 24,
   "metadata": {},
   "outputs": [],
   "source": [
    "class LinkedListNode:\n",
    "\n",
    "    def __init__(self, data):\n",
    "        self.data = data\n",
    "        self.next = None\n",
    "\n",
    "\n",
    "class Stack:\n",
    "\n",
    "    def __init__(self):\n",
    "        self.num_elements = 0\n",
    "        self.head = None\n",
    "\n",
    "    def push(self, data):\n",
    "        new_node = LinkedListNode(data)\n",
    "        if self.head is None:\n",
    "            self.head = new_node\n",
    "        else:\n",
    "            new_node.next = self.head\n",
    "            self.head = new_node\n",
    "        self.num_elements += 1\n",
    "\n",
    "    def pop(self):\n",
    "        if self.is_empty():\n",
    "            return None\n",
    "        temp = self.head.data\n",
    "        self.head = self.head.next\n",
    "        self.num_elements -= 1\n",
    "        return temp\n",
    "\n",
    "    def top(self):\n",
    "        if self.head is None:\n",
    "            return None\n",
    "        return self.head.data\n",
    "\n",
    "    def size(self):\n",
    "        return self.num_elements\n",
    "\n",
    "    def is_empty(self):\n",
    "        return self.num_elements == 0\n"
   ]
  },
  {
   "cell_type": "code",
   "execution_count": 25,
   "metadata": {},
   "outputs": [],
   "source": [
    "def evaluate_post_fix(input_list):\n",
    "    stack = Stack()\n",
    "    for element in input_list:\n",
    "        if element == '*':\n",
    "            second = stack.pop()\n",
    "            first = stack.pop()\n",
    "            output = first * second\n",
    "            stack.push(output)\n",
    "        elif element == '/':\n",
    "            second = stack.pop()\n",
    "            first = stack.pop()\n",
    "            output = int(first / second)\n",
    "            stack.push(output)\n",
    "        elif element == '+':\n",
    "            second = stack.pop()\n",
    "            first = stack.pop()\n",
    "            output = first + second\n",
    "            stack.push(output)\n",
    "        elif element == '-':\n",
    "            second = stack.pop()\n",
    "            first = stack.pop()\n",
    "            output = first - second\n",
    "            stack.push(output)\n",
    "        else:\n",
    "            stack.push(int(element))\n",
    "    return stack.pop()"
   ]
  },
  {
   "cell_type": "code",
   "execution_count": 26,
   "metadata": {},
   "outputs": [],
   "source": [
    "def test_function(test_case):\n",
    "    output = evaluate_post_fix(test_case[0])\n",
    "    print(output)\n",
    "    if output == test_case[1]:\n",
    "        print(\"Pass\")\n",
    "    else:\n",
    "        print(\"Fail\")\n"
   ]
  },
  {
   "cell_type": "code",
   "execution_count": 27,
   "metadata": {},
   "outputs": [
    {
     "name": "stdout",
     "output_type": "stream",
     "text": [
      "16\n",
      "Pass\n"
     ]
    }
   ],
   "source": [
    "test_case_1 = [[\"3\", \"1\", \"+\", \"4\", \"*\"], 16]\n",
    "\n",
    "test_function(test_case_1)"
   ]
  },
  {
   "cell_type": "code",
   "execution_count": 28,
   "metadata": {},
   "outputs": [
    {
     "name": "stdout",
     "output_type": "stream",
     "text": [
      "6\n",
      "Pass\n"
     ]
    }
   ],
   "source": [
    "test_case_2 = [[\"4\", \"13\", \"5\", \"/\", \"+\"], 6]\n",
    "test_function(test_case_2)"
   ]
  },
  {
   "cell_type": "code",
   "execution_count": 29,
   "metadata": {},
   "outputs": [
    {
     "name": "stdout",
     "output_type": "stream",
     "text": [
      "22\n",
      "Pass\n"
     ]
    }
   ],
   "source": [
    "test_case_3 = [[\"10\", \"6\", \"9\", \"3\", \"+\", \"-11\", \"*\", \"/\", \"*\", \"17\", \"+\", \"5\", \"+\"], 22]\n",
    "test_function(test_case_3)"
   ]
  },
  {
   "cell_type": "code",
   "execution_count": null,
   "metadata": {},
   "outputs": [],
   "source": []
  }
 ],
 "metadata": {
  "kernelspec": {
   "display_name": "Python 3",
   "language": "python",
   "name": "python3"
  },
  "language_info": {
   "codemirror_mode": {
    "name": "ipython",
    "version": 3
   },
   "file_extension": ".py",
   "mimetype": "text/x-python",
   "name": "python",
   "nbconvert_exporter": "python",
   "pygments_lexer": "ipython3",
   "version": "3.6.4"
  }
 },
 "nbformat": 4,
 "nbformat_minor": 2
}
