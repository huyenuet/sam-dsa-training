{
 "cells": [
  {
   "cell_type": "markdown",
   "metadata": {
    "graffitiCellId": "id_6z92v7o"
   },
   "source": [
    "# Implementing stacks using arrays\n",
    "\n",
    "In this notebook, we'll look at one way to implement a stack. But first, let's review the key concepts."
   ]
  },
  {
   "cell_type": "markdown",
   "metadata": {
    "graffitiCellId": "id_qkdwrjm"
   },
   "source": [
    "<span class=\"graffiti-highlight graffiti-id_qkdwrjm-id_4c84u0e\"><i></i><button>Walthrough</button></span>"
   ]
  },
  {
   "cell_type": "markdown",
   "metadata": {
    "graffitiCellId": "id_dr7cfv3"
   },
   "source": [
    "!()[]"
   ]
  },
  {
   "cell_type": "markdown",
   "metadata": {
    "graffitiCellId": "id_vsi3brc"
   },
   "source": [
    "## Let's implement it!\n",
    "\n",
    "Let's go through the implementation again, step by step—but this time, you can take a shot at doing each step yourself.\n",
    "\n",
    "If at any time you're stuck or need to refresh your memory, don't hesitate to use the *Show Solution* buttons."
   ]
  },
  {
   "cell_type": "markdown",
   "metadata": {
    "graffitiCellId": "id_n4ehw9p"
   },
   "source": [
    "### 1. Create and initialize the `Stack` class\n",
    "\n",
    "In the cell below:\n",
    "* Define a class named `Stack` and add the `__init__` method\n",
    "* Initialize the `arr` attribute with an array containing 10 elements, like this: `[0, 0, 0, 0, 0, 0, 0, 0, 0, 0]`\n",
    "* Initialize the `next_index` attribute\n",
    "* Initialize the `num_elements` attribute"
   ]
  },
  {
   "cell_type": "code",
   "execution_count": 13,
   "metadata": {
    "graffitiCellId": "id_gi9yplo"
   },
   "outputs": [],
   "source": []
  },
  {
   "cell_type": "markdown",
   "metadata": {
    "graffitiCellId": "id_gb12el5"
   },
   "source": [
    "Let's check that the array is being initialized correctly. We can create a `Stack` object and access the `arr` attribute, and we should see our ten-element array:"
   ]
  },
  {
   "cell_type": "code",
   "execution_count": 3,
   "metadata": {
    "graffitiCellId": "id_od8d7ju"
   },
   "outputs": [
    {
     "name": "stdout",
     "output_type": "stream",
     "text": [
      "[0, 0, 0, 0, 0, 0, 0, 0, 0, 0]\n",
      "Pass\n"
     ]
    }
   ],
   "source": [
    "foo = Stack()\n",
    "print(foo.arr)\n",
    "print(\"Pass\" if foo.arr == [0, 0, 0, 0, 0, 0, 0, 0, 0, 0] else \"Fail\")"
   ]
  },
  {
   "cell_type": "markdown",
   "metadata": {
    "graffitiCellId": "id_fmwrxfp"
   },
   "source": [
    "<span class=\"graffiti-highlight graffiti-id_fmwrxfp-id_w5l41pb\"><i></i><button>Show Solution</button></span>"
   ]
  },
  {
   "cell_type": "markdown",
   "metadata": {
    "graffitiCellId": "id_uddtqok"
   },
   "source": [
    "### 2. Add the `push` method\n",
    "\n",
    "Next, we need to define our `push` method, so that we have a way of adding elements to the top of the stack.\n",
    "* The method will need to have a parameter for the value that you want to push\n",
    "* Remember that `next_index` will have the index for where the value should be added\n",
    "* Once you've added the value, you'll want to increment both `next_index` and `num_elements`"
   ]
  },
  {
   "cell_type": "code",
   "execution_count": 31,
   "metadata": {
    "graffitiCellId": "id_qx4z3nq"
   },
   "outputs": [],
   "source": [
    "class Stack:\n",
    "    \n",
    "    def __init__(self, initial_size = 10):\n",
    "        self.arr = [0 for _ in range(initial_size)]\n",
    "        self.next_index = 0\n",
    "        self.num_elements = 0\n",
    "        \n",
    "    # TODO Add the push method"
   ]
  },
  {
   "cell_type": "markdown",
   "metadata": {
    "graffitiCellId": "id_alax6u5"
   },
   "source": [
    "Let's test it by creating a stack object and pushing an item onto the stack:"
   ]
  },
  {
   "cell_type": "code",
   "execution_count": 14,
   "metadata": {
    "graffitiCellId": "id_qmycsda"
   },
   "outputs": [
    {
     "name": "stdout",
     "output_type": "stream",
     "text": [
      "['Test!', 0, 0, 0, 0, 0, 0, 0, 0, 0]\n",
      "Pass\n"
     ]
    }
   ],
   "source": [
    "foo = Stack()\n",
    "foo.push(\"Test!\")\n",
    "print(foo.arr)\n",
    "print(\"Pass\" if foo.arr[0] == \"Test!\" else \"Fail\")"
   ]
  },
  {
   "cell_type": "markdown",
   "metadata": {
    "graffitiCellId": "id_uqw9vue"
   },
   "source": [
    "<span class=\"graffiti-highlight graffiti-id_uqw9vue-id_lfqszhh\"><i></i><button>Show Solution</button></span>"
   ]
  },
  {
   "cell_type": "markdown",
   "metadata": {
    "graffitiCellId": "id_kyztmk5"
   },
   "source": [
    "### 3. Handle full capacity\n",
    "\n",
    "Great, the `push` method seems to be working fine! But we know that it's not done yet. If we keep pushing items onto the stack, eventually we will run out of room in the array. Currently, that will cause an `Index out of range` error. In order to avoid a stack overflow, we need to check the capacity of the array before pushing an item to the stack. And if the array is full, we need to increase the array size before pushing the new element.\n",
    "\n",
    "First, define the `_handle_stack_capacity_full` method:\n",
    "* Define an `old_arr` variable and assign it the current (full) array\n",
    "* Create a new (larger) array and assign it to `arr`.\n",
    "* Iterate over the values in the old array and copy them to the new array.\n",
    "\n",
    "Then, in the `push` method:\n",
    "* Add a conditional to check if the array is full; if it is, call the `_handle_stack_capacity_full`"
   ]
  },
  {
   "cell_type": "code",
   "execution_count": 33,
   "metadata": {
    "graffitiCellId": "id_m0mkufb"
   },
   "outputs": [],
   "source": [
    "class Stack:\n",
    "    \n",
    "    def __init__(self, initial_size = 10):\n",
    "        self.arr = [0 for _ in range(initial_size)]\n",
    "        self.next_index = 0\n",
    "        self.num_elements = 0\n",
    "        \n",
    "    def push(self, data):\n",
    "        # TODO: Add a conditional to check for full capacity\n",
    "        \n",
    "        self.arr[self.next_index] = data\n",
    "        self.next_index += 1\n",
    "        self.num_elements += 1\n",
    "        \n",
    "    # TODO: Add the _handle_stack_capacity_full method"
   ]
  },
  {
   "cell_type": "markdown",
   "metadata": {
    "graffitiCellId": "id_wo3cqbd"
   },
   "source": [
    "We can test this by pushing items onto the stack until we exceed the original capacity. Let's try it and see if we get an error, or if the array size gets increased like we want it to."
   ]
  },
  {
   "cell_type": "code",
   "execution_count": 28,
   "metadata": {
    "graffitiCellId": "id_6ineceb"
   },
   "outputs": [
    {
     "name": "stdout",
     "output_type": "stream",
     "text": [
      "Out of space! Increasing array capacity ...\n",
      "[1, 2, 3, 4, 5, 6, 7, 8, 9, 10, 11, 0, 0, 0, 0, 0, 0, 0, 0, 0]\n",
      "Pass\n"
     ]
    }
   ],
   "source": [
    "foo = Stack()\n",
    "foo.push(1)\n",
    "foo.push(2)\n",
    "foo.push(3)\n",
    "foo.push(4)\n",
    "foo.push(5)\n",
    "foo.push(6)\n",
    "foo.push(7)\n",
    "foo.push(8)\n",
    "foo.push(9)\n",
    "foo.push(10) # The array is now at capacity!\n",
    "foo.push(11) # This one should cause the array to increase in size\n",
    "print(foo.arr) # Let's see what the array looks like now!\n",
    "print(\"Pass\" if len(foo.arr) == 20 else \"Fail\") # If we successfully doubled the array size, it should now be 20."
   ]
  },
  {
   "cell_type": "markdown",
   "metadata": {
    "graffitiCellId": "id_7s3uz2d"
   },
   "source": [
    "<span class=\"graffiti-highlight graffiti-id_7s3uz2d-id_l4goenl\"><i></i><button>Show Solution</button></span>"
   ]
  },
  {
   "cell_type": "markdown",
   "metadata": {
    "graffitiCellId": "id_wyoe5v1"
   },
   "source": [
    "### 4. Add the `size` and `is_empty` methods\n",
    "\n",
    "Next, we need to add a couple of simple methods:\n",
    "* Add a `size` method that returns the current size of the stack\n",
    "* Add an `is_empty` method that returns `True` if the stack is empty and `False` otherwise"
   ]
  },
  {
   "cell_type": "code",
   "execution_count": 30,
   "metadata": {
    "graffitiCellId": "id_w5j566l"
   },
   "outputs": [],
   "source": [
    "class Stack:\n",
    "    \n",
    "    def __init__(self, initial_size = 10):\n",
    "        self.arr = [0 for _ in range(initial_size)]\n",
    "        self.next_index = 0\n",
    "        self.num_elements = 0\n",
    "        \n",
    "    def push(self, data):\n",
    "        if self.next_index == len(self.arr):\n",
    "            print(\"Out of space! Increasing array capacity ...\")\n",
    "            self._handle_stack_capacity_full()\n",
    "        \n",
    "        self.arr[self.next_index] = data\n",
    "        self.next_index += 1\n",
    "        self.num_elements += 1\n",
    "        \n",
    "    # TODO: Add the size method\n",
    "    \n",
    "    # TODO: Add the is_empty method\n",
    "\n",
    "    def _handle_stack_capacity_full(self):\n",
    "        old_arr = self.arr\n",
    "\n",
    "        self.arr = [0 for _ in range( 2* len(old_arr))]\n",
    "        for index, element in enumerate(old_arr):\n",
    "            self.arr[index] = element"
   ]
  },
  {
   "cell_type": "markdown",
   "metadata": {
    "graffitiCellId": "id_tz4nkd7"
   },
   "source": [
    "Let's test the new methods:"
   ]
  },
  {
   "cell_type": "code",
   "execution_count": 36,
   "metadata": {
    "graffitiCellId": "id_ciu8abs"
   },
   "outputs": [
    {
     "name": "stdout",
     "output_type": "stream",
     "text": [
      "0\n",
      "True\n",
      "1\n",
      "False\n"
     ]
    }
   ],
   "source": [
    "foo = Stack()\n",
    "print(foo.size()) # Should return 0\n",
    "print(foo.is_empty()) # Should return True\n",
    "foo.push(\"Test\") # Let's push an item onto the stack and check again\n",
    "print(foo.size()) # Should return 1\n",
    "print(foo.is_empty()) # Should return False"
   ]
  },
  {
   "cell_type": "markdown",
   "metadata": {
    "graffitiCellId": "id_v0ufrgd"
   },
   "source": [
    "<span class=\"graffiti-highlight graffiti-id_v0ufrgd-id_niextdf\"><i></i><button>Show Solution</button></span>"
   ]
  },
  {
   "cell_type": "markdown",
   "metadata": {
    "graffitiCellId": "id_00pq8v4"
   },
   "source": [
    "### 5. Add the `pop` method\n",
    "\n",
    "The last thing we need to do is add the `pop` method.\n",
    "\n",
    "The method needs to:\n",
    "* Check if the stack is empty and, if it is, return `None`\n",
    "* Decrement `next_index` and `num_elements`\n",
    "* Return the item that is being \"popped\""
   ]
  },
  {
   "cell_type": "code",
   "execution_count": 37,
   "metadata": {
    "graffitiCellId": "id_5iq1jsn"
   },
   "outputs": [],
   "source": [
    "class Stack:\n",
    "    \n",
    "    def __init__(self, initial_size = 10):\n",
    "        self.arr = [0 for _ in range(initial_size)]\n",
    "        self.next_index = 0\n",
    "        self.num_elements = 0\n",
    "        \n",
    "    def push(self, data):\n",
    "        if self.next_index == len(self.arr):\n",
    "            print(\"Out of space! Increasing array capacity ...\")\n",
    "            self._handle_stack_capacity_full()\n",
    "        \n",
    "        self.arr[self.next_index] = data\n",
    "        self.next_index += 1\n",
    "        self.num_elements += 1\n",
    "        \n",
    "    # TODO: Add the pop method\n",
    "\n",
    "    def size(self):\n",
    "        return self.num_elements\n",
    "\n",
    "    def is_empty(self):\n",
    "        return self.num_elements == 0\n",
    "    \n",
    "    def _handle_stack_capacity_full(self):\n",
    "        old_arr = self.arr\n",
    "\n",
    "        self.arr = [0 for _ in range( 2* len(old_arr))]\n",
    "        for index, element in enumerate(old_arr):\n",
    "            self.arr[index] = element"
   ]
  },
  {
   "cell_type": "markdown",
   "metadata": {
    "graffitiCellId": "id_v2r2b2x"
   },
   "source": [
    "Let's test the `pop` method:"
   ]
  },
  {
   "cell_type": "code",
   "execution_count": 45,
   "metadata": {
    "graffitiCellId": "id_0ktsfz8"
   },
   "outputs": [
    {
     "name": "stdout",
     "output_type": "stream",
     "text": [
      "Test\n",
      "None\n"
     ]
    }
   ],
   "source": [
    "foo = Stack()\n",
    "foo.push(\"Test\") # We first have to push an item so that we'll have something to pop\n",
    "print(foo.pop()) # Should return the popped item, which is \"Test\"\n",
    "print(foo.pop()) # Should return None, since there's nothing left in the stack"
   ]
  },
  {
   "cell_type": "markdown",
   "metadata": {
    "graffitiCellId": "id_xw9c1tu"
   },
   "source": [
    "<span class=\"graffiti-highlight graffiti-id_xw9c1tu-id_nvcwqh9\"><i></i><button>Show Solution</button></span>"
   ]
  },
  {
   "cell_type": "markdown",
   "metadata": {
    "graffitiCellId": "id_8do0njo"
   },
   "source": [
    "Done!"
   ]
  }
 ],
 "metadata": {
  "graffiti": {
   "firstAuthorId": "10835321903",
   "id": "id_4ashoye",
   "language": "EN"
  },
  "kernelspec": {
   "display_name": "Python 3",
   "language": "python",
   "name": "python3"
  },
  "language_info": {
   "codemirror_mode": {
    "name": "ipython",
    "version": 3
   },
   "file_extension": ".py",
   "mimetype": "text/x-python",
   "name": "python",
   "nbconvert_exporter": "python",
   "pygments_lexer": "ipython3",
   "version": "3.6.3"
  }
 },
 "nbformat": 4,
 "nbformat_minor": 2
}
