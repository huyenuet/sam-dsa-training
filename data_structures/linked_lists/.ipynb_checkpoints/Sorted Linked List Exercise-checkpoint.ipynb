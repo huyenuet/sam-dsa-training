{
 "cells": [
  {
   "cell_type": "markdown",
   "metadata": {
    "graffitiCellId": "id_5d55rf6"
   },
   "source": [
    "## Sorting with linked lists\n",
    "\n",
    "Given a stream of random integers, create a linked list that is always sorted from ascending order (lowest to highest). What's the computational complexity of adding an element in this way?"
   ]
  },
  {
   "cell_type": "code",
   "execution_count": 42,
   "metadata": {
    "graffitiCellId": "id_uy4n9c2"
   },
   "outputs": [],
   "source": [
    "# Use this class as the nodes in your linked list\n",
    "class Node:\n",
    "    def __init__(self, value):\n",
    "        self.value = value\n",
    "        self.next = None\n",
    "    \n",
    "    def __repr__(self):\n",
    "        return str(self.value)"
   ]
  },
  {
   "cell_type": "code",
   "execution_count": null,
   "metadata": {
    "graffitiCellId": "id_54y346f"
   },
   "outputs": [],
   "source": [
    "class SortedLinkedList:\n",
    "    def __init__(self):\n",
    "        self.head = None\n",
    "        \n",
    "    def append(self, value):\n",
    "        # Implement this to append a value to the linked list in ascending sorted order\n",
    "        pass"
   ]
  },
  {
   "cell_type": "code",
   "execution_count": null,
   "metadata": {
    "graffitiCellId": "id_f1gndvl"
   },
   "outputs": [],
   "source": [
    "# Test cases\n",
    "linked_list = SortedLinkedList()\n",
    "linked_list.append(3)\n",
    "assert linked_list.head.value == 3\n",
    "\n",
    "linked_list.append(2)\n",
    "assert linked_list.head.value == 2\n",
    "\n",
    "linked_list.append(4)\n",
    "node = linked_list.head.next.next\n",
    "assert node.value == 4"
   ]
  },
  {
   "cell_type": "markdown",
   "metadata": {
    "graffitiCellId": "id_gbjwsqc"
   },
   "source": [
    "<span class=\"graffiti-highlight graffiti-id_gbjwsqc-id_3cz1u5k\"><i></i><button class=\"btn btn-default\" title=\"Show me\">Show me how to solve this!</button></span>"
   ]
  },
  {
   "cell_type": "code",
   "execution_count": null,
   "metadata": {
    "graffitiCellId": "id_9nipx2n"
   },
   "outputs": [],
   "source": [
    "class SortedLinkedList:\n",
    "    def __init__(self):\n",
    "        self.head = None\n",
    "    \n",
    "    def append(self, value):\n",
    "        # Implement this to append a value to the linked list in ascending sorted order\n",
    "        if self.head is None:\n",
    "            self.head = Node(value)\n",
    "            return\n",
    "        \n",
    "        if value < self.head.value:\n",
    "            node = Node(value)\n",
    "            node.next = self.head\n",
    "            self.head = node\n",
    "            return\n",
    "        \n",
    "        node = self.head\n",
    "        while node.next is not None and value >= node.next.value:\n",
    "            node = node.next\n",
    "            \n",
    "        new_node = Node(value)\n",
    "        new_node.next = node.next\n",
    "        node.next = new_node\n",
    "        \n",
    "        return None"
   ]
  },
  {
   "cell_type": "markdown",
   "metadata": {
    "graffitiCellId": "id_5rqxkq0"
   },
   "source": [
    "Computational complexity is $O(N)$ where $N$ is the current length of the linked list."
   ]
  },
  {
   "cell_type": "markdown",
   "metadata": {
    "graffitiCellId": "id_01gbzx6"
   },
   "source": [
    "### Additional question: sort an array with this linked list\n",
    "\n",
    "Given an array of integers, use this linked list to sort them and return a sorted array. What's the computational complexity of this sorting algorithm? How does it compare to other sorting algorithms?"
   ]
  },
  {
   "cell_type": "code",
   "execution_count": null,
   "metadata": {
    "graffitiCellId": "id_3948fxz"
   },
   "outputs": [],
   "source": [
    "def sort(array):\n",
    "    # Implement this function to return a sorted array, using SortedLinkedList"
   ]
  },
  {
   "cell_type": "code",
   "execution_count": null,
   "metadata": {
    "graffitiCellId": "id_sln0fai"
   },
   "outputs": [],
   "source": [
    "### Test cases\n",
    "\n",
    "assert sort([4, 8, 2, 1, -3, 1, 5]) == [-3, 1, 1, 2, 4, 5, 8]"
   ]
  },
  {
   "cell_type": "markdown",
   "metadata": {
    "graffitiCellId": "id_dxksp0s"
   },
   "source": [
    "<span class=\"graffiti-highlight graffiti-id_dxksp0s-id_pa49pzj\"><i></i><button class=\"btn btn-default\" title=\"Show me\">Show me how to solve this!</button></span>"
   ]
  },
  {
   "cell_type": "markdown",
   "metadata": {
    "graffitiCellId": "id_syirswf"
   },
   "source": [
    "Computational complexity is $O(N^2)$ where N is the length of the integer array. One insert is $O(M)$ where $M$ is the length of the existing linked list. As the list grows, the time complexity of inserting grows. It's something like $1 + 2 + 3 + 4 + \\cdots + N$.\n",
    "\n",
    "$$\n",
    "1 + 2 + 3 + 4 + \\cdots + N = \\sum_n^N n = \\frac{N(N+1)}{2}\n",
    "$$\n",
    "\n",
    "Then our time complexity for sorting itself is $O(N^2)$.  Converting from the linked list to an array is $O(N)$. Combined this is $O(N^2 + N) = O(N^2)$. Sorting algorithms such as quicksort and mergesort are $N \\log N$ So this algorithm is slower."
   ]
  }
 ],
 "metadata": {
  "graffiti": {
   "firstAuthorId": "10694620118",
   "id": "id_r353lsv",
   "language": "EN"
  },
  "kernelspec": {
   "display_name": "Python 3",
   "language": "python",
   "name": "python3"
  },
  "language_info": {
   "codemirror_mode": {
    "name": "ipython",
    "version": 3
   },
   "file_extension": ".py",
   "mimetype": "text/x-python",
   "name": "python",
   "nbconvert_exporter": "python",
   "pygments_lexer": "ipython3",
   "version": "3.6.3"
  }
 },
 "nbformat": 4,
 "nbformat_minor": 2
}
