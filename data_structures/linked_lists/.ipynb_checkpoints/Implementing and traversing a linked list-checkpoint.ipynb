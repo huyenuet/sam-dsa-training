{
 "cells": [
  {
   "cell_type": "markdown",
   "metadata": {
    "graffitiCellId": "id_eqih1d5"
   },
   "source": [
    "## Linked List Basics\n",
    "\n",
    "In this notebook we'll get some practice implementing a basic linked list—something like this:  \n",
    "\n",
    "<img style=\"float: left;\" src=\"assets/linked_list_head_none.png\">"
   ]
  },
  {
   "cell_type": "markdown",
   "metadata": {
    "graffitiCellId": "id_bp36f41"
   },
   "source": [
    "### Key characteristics\n",
    "\n",
    "First, let's review the overall abstract concepts for this data structure. To get started, click the walkthrough button below."
   ]
  },
  {
   "cell_type": "markdown",
   "metadata": {
    "graffitiCellId": "id_fx1ii1b"
   },
   "source": [
    "<span class=\"graffiti-highlight graffiti-id_fx1ii1b-id_p4ecakd\"><i></i><button>Walkthrough</button></span>"
   ]
  },
  {
   "cell_type": "markdown",
   "metadata": {
    "graffitiCellId": "id_c4m9beg"
   },
   "source": [
    "Now that we've talked about the abstract characteristics that we want our linked list to have, let's look at how we might implement one in Python."
   ]
  },
  {
   "cell_type": "markdown",
   "metadata": {
    "graffitiCellId": "id_rytkj5r"
   },
   "source": [
    "<span class=\"graffiti-highlight graffiti-id_rytkj5r-id_b4xxfs5\"><i></i><button>Walkthrough</button></span>"
   ]
  },
  {
   "cell_type": "code",
   "execution_count": null,
   "metadata": {
    "graffitiCellId": "id_99q41rf"
   },
   "outputs": [],
   "source": []
  },
  {
   "cell_type": "markdown",
   "metadata": {
    "graffitiCellId": "id_mdnxjc0"
   },
   "source": [
    "Once you've seen the walkthrough, give it a try for yourself:\n",
    "* Create a `Node` class with `value` and `next` attributes\n",
    "* Use the class to create the `head` node with the value `2`\n",
    "* Create and link a second node containing the value `1`\n",
    "* Try printing the values (`1` and `2`) on the nodes you created (to make sure that you can access them!)"
   ]
  },
  {
   "cell_type": "code",
   "execution_count": null,
   "metadata": {
    "graffitiCellId": "id_1gmtcax"
   },
   "outputs": [],
   "source": []
  },
  {
   "cell_type": "markdown",
   "metadata": {
    "graffitiCellId": "id_jnw1zp8"
   },
   "source": [
    "<span class=\"graffiti-highlight graffiti-id_jnw1zp8-id_uu0moco\"><i></i><button>Show Solution</button></span>"
   ]
  },
  {
   "cell_type": "markdown",
   "metadata": {
    "graffitiCellId": "id_f2nungg"
   },
   "source": [
    "At this point, our linked list looks like this:  \n",
    "\n",
    "<img style=\"float: left;\" src=\"assets/linked_list_two_nodes.png\">"
   ]
  },
  {
   "cell_type": "markdown",
   "metadata": {
    "graffitiCellId": "id_4202wlo"
   },
   "source": [
    "Our goal is to extend the list until it looks like this:\n",
    "\n",
    "<img style=\"float: left;\" src=\"assets/linked_list_head_none.png\">"
   ]
  },
  {
   "cell_type": "markdown",
   "metadata": {
    "graffitiCellId": "id_ldfiqzy"
   },
   "source": [
    "To do this, we need to create three more nodes, and we need to attach each one to the `next` attribute of the node that comes before it. Notice that we don't have a direct reference to any of the nodes other than the `head` node!\n",
    "\n",
    "See if you can write the code to do this.\n",
    "* Add three more nodes to the list, with the values `4`, `3`, and `5`."
   ]
  },
  {
   "cell_type": "code",
   "execution_count": 70,
   "metadata": {
    "graffitiCellId": "id_v8ubmn1"
   },
   "outputs": [],
   "source": [
    "# Solution\n",
    "head.next.next = Node(4)\n",
    "head.next.next.next = Node(3)\n",
    "head.next.next.next.next = Node(5)"
   ]
  },
  {
   "cell_type": "markdown",
   "metadata": {
    "graffitiCellId": "id_uce2pg6"
   },
   "source": [
    "It would be nice to print out all the values for our linked list to see if everything worked like we expected. We could do that by going through and accessing each `next` attribute manually, like this:"
   ]
  },
  {
   "cell_type": "code",
   "execution_count": 72,
   "metadata": {
    "graffitiCellId": "id_7mlhtxq"
   },
   "outputs": [
    {
     "name": "stdout",
     "output_type": "stream",
     "text": [
      "2\n",
      "1\n",
      "4\n",
      "3\n",
      "5\n"
     ]
    }
   ],
   "source": [
    "print(head.value)\n",
    "print(head.next.value)\n",
    "print(head.next.next.value)\n",
    "print(head.next.next.next.value)\n",
    "print(head.next.next.next.next.value)"
   ]
  },
  {
   "cell_type": "code",
   "execution_count": null,
   "metadata": {
    "graffitiCellId": "id_57btcwr"
   },
   "outputs": [],
   "source": [
    "But that would be extremely tedious. Instead, let's see how we might traverse the list and print all the values, no matter how long it might be."
   ]
  },
  {
   "cell_type": "markdown",
   "metadata": {
    "graffitiCellId": "id_xkdv7og"
   },
   "source": [
    "# Traversing a Linked List"
   ]
  },
  {
   "cell_type": "markdown",
   "metadata": {
    "graffitiCellId": "id_n3p2s50"
   },
   "source": [
    "To print the data of each linked list node in the linked list, we can follow the same process that we followed above. We will be given a reference to the `head` of the linked list. We can start by printing the `data` of this `head` node. Then, we can go the next node by perfoming a `head.next` operation, and print the node we get by doing so. And we will have to do for each node in the linked list.\n",
    "\n",
    "The problem is, how will get know about the number of nodes in the linked list? \n",
    "\n",
    "The answer is that we don't. Usually, we will have no idea how many nodes are present in the linked list. Like we mentioned before, we will only have the `head` of the linked list. \n",
    "\n",
    "The problem still persists. We can continue to perform the `next` operation again and again, how will we know when to stop?\n",
    "\n",
    "The answer is very simple. Remember that the value of `next` attribute of the last node in the linked list will always be `None`. We can check for the value of the `next` attribute, and know when to stop. \n",
    "        "
   ]
  },
  {
   "cell_type": "markdown",
   "metadata": {
    "graffitiCellId": "id_5uvoiyy"
   },
   "source": [
    "Performing `next` operation on each node manually seems tedious. We can use the above fact in a while loop and know when to stop. \n",
    "\n",
    "Here is a method which will print data for each node in the linked list. As discussed before, we would only have the reference to the `head` of the linked list and we will use that to print the list."
   ]
  },
  {
   "cell_type": "code",
   "execution_count": 44,
   "metadata": {
    "graffitiCellId": "id_d9wgxeu"
   },
   "outputs": [],
   "source": [
    "def print_linked_list(head):\n",
    "    pointer = head\n",
    "    \n",
    "    while pointer is not None:\n",
    "        print(pointer.data)\n",
    "        pointer = pointer.next\n",
    "    "
   ]
  },
  {
   "cell_type": "code",
   "execution_count": 45,
   "metadata": {
    "graffitiCellId": "id_gok926a"
   },
   "outputs": [
    {
     "name": "stdout",
     "output_type": "stream",
     "text": [
      "1\n",
      "2\n",
      "3\n",
      "4\n"
     ]
    }
   ],
   "source": [
    "print_linked_list(head)"
   ]
  },
  {
   "cell_type": "markdown",
   "metadata": {
    "graffitiCellId": "id_fhdke01"
   },
   "source": [
    "In line 2, we store the head reference in another variable called `pointer`. It's just a variable name. \n",
    "\n",
    "We store the reference in another variable because we do not want to lose the head reference. \n",
    "We print the data of the first node. After this, we move our `pointer` to the next node and print the data of that node. We continue doing so untill our `pointer` has the value `None` which is when we know that it has already reached the end of the linked list."
   ]
  },
  {
   "cell_type": "markdown",
   "metadata": {
    "graffitiCellId": "id_k6j1wmx"
   },
   "source": [
    "## Taking Input in the linked list"
   ]
  },
  {
   "cell_type": "markdown",
   "metadata": {
    "graffitiCellId": "id_aar5o9g"
   },
   "source": [
    "Previously, we created a linked list using a very manual and tedious method. We called `next` multiple times on our `head` node. \n",
    "\n",
    "Now that we know about traversing the linked list, is there a way we can use that to create a linked list?\n",
    "\n",
    "Let's do this as an exercise. We will give you a list of number. You have to create a linked list and return the `head` node of the list. "
   ]
  },
  {
   "cell_type": "code",
   "execution_count": 46,
   "metadata": {
    "graffitiCellId": "id_o4h8d5d"
   },
   "outputs": [],
   "source": [
    "def create_linked_list(input_list):\n",
    "    \"\"\"\n",
    "    Function to create a linked list\n",
    "    @param input_list: a list of integers\n",
    "    @return: head node of the linked list\n",
    "    \"\"\"\n",
    "    head = None\n",
    "    return head"
   ]
  },
  {
   "cell_type": "code",
   "execution_count": 51,
   "metadata": {
    "graffitiCellId": "id_08m4daq"
   },
   "outputs": [
    {
     "name": "stdout",
     "output_type": "stream",
     "text": [
      "Pass\n",
      "Pass\n",
      "Pass\n"
     ]
    }
   ],
   "source": [
    "### Test Code\n",
    "def test_function(input_list, head):\n",
    "    try:\n",
    "        if len(input_list) == 0:\n",
    "            if head is not None:\n",
    "                print(\"Fail\")\n",
    "                return\n",
    "        for data in input_list:\n",
    "            if head.data != data:\n",
    "                print(\"Fail\")\n",
    "                return\n",
    "            else:\n",
    "                head = head.next\n",
    "        print(\"Pass\")\n",
    "    except Exception as e:\n",
    "        print(\"Fail: \"  + e)\n",
    "        \n",
    "        \n",
    "\n",
    "input_list = [1, 2, 3, 4, 5, 6]\n",
    "head = create_linked_list(input_list)\n",
    "test_function(input_list, head)\n",
    "\n",
    "input_list = [1]\n",
    "head = create_linked_list(input_list)\n",
    "test_function(input_list, head)\n",
    "\n",
    "input_list = []\n",
    "head = create_linked_list(input_list)\n",
    "test_function(input_list, head)\n"
   ]
  },
  {
   "cell_type": "markdown",
   "metadata": {
    "graffitiCellId": "id_g8ojeyh"
   },
   "source": [
    "### Solution to create-linked-list"
   ]
  },
  {
   "cell_type": "code",
   "execution_count": 49,
   "metadata": {
    "graffitiCellId": "id_ljc141k"
   },
   "outputs": [],
   "source": [
    "def create_linked_list(input_list):\n",
    "    head = None\n",
    "    if len(input_list) == 0:\n",
    "        return\n",
    "    \n",
    "    head = None\n",
    "    pointer = None\n",
    "    for data in input_list:\n",
    "        new_node = LinkedListNode(data)\n",
    "        if head is None:\n",
    "            head = new_node\n",
    "        else:\n",
    "            pointer = head\n",
    "            while pointer.next is not None:\n",
    "                pointer = pointer.next\n",
    "            pointer.next = new_node\n",
    "            \n",
    "    return head"
   ]
  },
  {
   "cell_type": "markdown",
   "metadata": {
    "graffitiCellId": "id_99yvi7d"
   },
   "source": [
    "The approach is very simple. \n",
    "\n",
    "1. We initialized our `head` with `None`. That means that we don't have any node yet. In that case, we assign our new node this `head` reference. \n",
    "\n",
    "2. Next, for every integer in the list, we go to the end of the linked list and attach our new node. \n",
    "\n",
    "Note how we used a variable `pointer` to traverse. Just like before, we use it so that we do not lose the reference to `head`.\n"
   ]
  },
  {
   "cell_type": "markdown",
   "metadata": {
    "graffitiCellId": "id_nqzsnnp"
   },
   "source": [
    "Is this the best approach to do this?\n",
    "\n",
    "Notice that for every data in the list, we have to traverse the entire linked list. This makes it an $O(n^2)$ solution.\n",
    "\n",
    "Can we do something better?"
   ]
  },
  {
   "cell_type": "markdown",
   "metadata": {
    "graffitiCellId": "id_tjn5iei"
   },
   "source": [
    "The last node of the linked list is called the `tail` of the linked list. If we kept a reference to the `tail` of the linked list, we could simply attach our new node to this `tail` node. Now our `tail` node would be this new node so we update `tail`. And we follow the same process for every element in the list.\n",
    "\n",
    "\n",
    "Remember that even now we will only get the `head` reference. However, we can maintain the `tail` inside our function itself."
   ]
  },
  {
   "cell_type": "code",
   "execution_count": 52,
   "metadata": {
    "graffitiCellId": "id_ffd6bg0"
   },
   "outputs": [],
   "source": [
    "def create_linked_list_better(input_list):\n",
    "    if len(input_list) == 0:\n",
    "        return None\n",
    "    \n",
    "    head = None\n",
    "    tail = None\n",
    "    \n",
    "    for data in input_list:\n",
    "        new_node = LinkedListNode(data)\n",
    "        \n",
    "        if head is None:\n",
    "            head = new_node\n",
    "            tail = head            # when we only have 1 node, head and tail refer to the same node\n",
    "        else:\n",
    "            tail.next = new_node    # attach the new node to the `next` of tail\n",
    "            tail = tail.next        # update the tail\n",
    "    return head"
   ]
  },
  {
   "cell_type": "code",
   "execution_count": 53,
   "metadata": {
    "graffitiCellId": "id_8759j0l"
   },
   "outputs": [
    {
     "name": "stdout",
     "output_type": "stream",
     "text": [
      "Pass\n",
      "Pass\n",
      "Pass\n"
     ]
    }
   ],
   "source": [
    "### Test Code\n",
    "def test_function(input_list, head):\n",
    "    try:\n",
    "        if len(input_list) == 0:\n",
    "            if head is not None:\n",
    "                print(\"Fail\")\n",
    "                return\n",
    "        for data in input_list:\n",
    "            if head.data != data:\n",
    "                print(\"Fail\")\n",
    "                return\n",
    "            else:\n",
    "                head = head.next\n",
    "        print(\"Pass\")\n",
    "    except Exception as e:\n",
    "        print(\"Fail: \"  + e)\n",
    "        \n",
    "        \n",
    "\n",
    "input_list = [1, 2, 3, 4, 5, 6]\n",
    "head = create_linked_list_better(input_list)\n",
    "test_function(input_list, head)\n",
    "\n",
    "input_list = [1]\n",
    "head = create_linked_list_better(input_list)\n",
    "test_function(input_list, head)\n",
    "\n",
    "input_list = []\n",
    "head = create_linked_list_better(input_list)\n",
    "test_function(input_list, head)\n"
   ]
  },
  {
   "cell_type": "code",
   "execution_count": null,
   "metadata": {
    "graffitiCellId": "id_twxghb4"
   },
   "outputs": [],
   "source": []
  }
 ],
 "metadata": {
  "graffiti": {
   "firstAuthorId": "10835321903",
   "id": "id_onfkwff",
   "language": "EN"
  },
  "kernelspec": {
   "display_name": "Python 3",
   "language": "python",
   "name": "python3"
  },
  "language_info": {
   "codemirror_mode": {
    "name": "ipython",
    "version": 3
   },
   "file_extension": ".py",
   "mimetype": "text/x-python",
   "name": "python",
   "nbconvert_exporter": "python",
   "pygments_lexer": "ipython3",
   "version": "3.6.3"
  },
  "widgets": {
   "application/vnd.jupyter.widget-state+json": {
    "state": {},
    "version_major": 2,
    "version_minor": 0
   }
  }
 },
 "nbformat": 4,
 "nbformat_minor": 2
}
