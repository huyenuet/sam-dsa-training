{
 "cells": [
  {
   "cell_type": "markdown",
   "metadata": {
    "graffitiCellId": "id_18ngdm1"
   },
   "source": [
    "# Linked List Practice\n",
    "\n",
    "Implement a linked list class. Your class should be able to:\n",
    "\n",
    "+ Append data to the tail of the list and prepend to the head\n",
    "+ Search the linked list for a value and return the node\n",
    "+ Remove a node\n",
    "+ Pop, which means to return the first node's value and delete the node from the list\n",
    "+ Insert data at some position in the list\n",
    "+ Return the size (length) of the linked list"
   ]
  },
  {
   "cell_type": "code",
   "execution_count": 1,
   "metadata": {
    "graffitiCellId": "id_x917dkg"
   },
   "outputs": [],
   "source": [
    "class Node:\n",
    "    def __init__(self, value):\n",
    "        self.value = value\n",
    "        self.next = None"
   ]
  },
  {
   "cell_type": "code",
   "execution_count": 2,
   "metadata": {
    "graffitiCellId": "id_hg4vhdi"
   },
   "outputs": [],
   "source": [
    "class LinkedList:\n",
    "    def __init__(self):\n",
    "        self.head = None\n",
    "        \n",
    "    def prepend(self, value):\n",
    "        \"\"\" Prepend a value to the beginning of the list. \"\"\"\n",
    "        \n",
    "        # TODO: Write function to prepend here\n",
    "        node = Node(value)\n",
    "        node.next = self.head\n",
    "        self.head = node\n",
    "    \n",
    "    def append(self, value):\n",
    "        \"\"\" Append a value to the end of the list. \"\"\"\n",
    "        \n",
    "        # TODO: Write function to append here\n",
    "        \n",
    "        if self.head is None:\n",
    "            self.head = Node(value)\n",
    "        else:\n",
    "            node = self.head\n",
    "            while node:\n",
    "                node = node.next\n",
    "            node.next = Node(value)\n",
    "    \n",
    "    def search(self, value):\n",
    "        \"\"\" Search the linked list for a node with the requested value and return the node. \"\"\"\n",
    "        \n",
    "        # TODO: Write function to search here\n",
    "        \n",
    "        node = self.head\n",
    "        while node:\n",
    "            if node.value == value:\n",
    "                return node\n",
    "            node = node.next\n",
    "    \n",
    "    def remove(self, value):\n",
    "        \"\"\" Remove first occurrence of value. \"\"\"\n",
    "        \n",
    "        # TODO: Write function to remove here\n",
    "        \n",
    "        node = self.head\n",
    "        if node.value == value:\n",
    "            self.pop()\n",
    "            return\n",
    "        if node.next is None:\n",
    "            return\n",
    "        \n",
    "        while node.next and node.next.value != value:\n",
    "            node = node.next\n",
    "            \n",
    "        node.next = node.next.next\n",
    "        return\n",
    "    \n",
    "    def pop(self):\n",
    "        \"\"\" Return the first node's value and remove it from the list. \"\"\"\n",
    "        \n",
    "        # TODO: Write function to pop here\n",
    "\n",
    "        if self.head is None:\n",
    "            return None\n",
    "        new_node = self.head.next\n",
    "        old_head = self.head\n",
    "        self.head = new_node\n",
    "        return self.old_head\n",
    "            \n",
    "    \n",
    "    def insert(self, value, pos):\n",
    "        \"\"\" Insert value at pos position in the list. If pos is larger than the\n",
    "            length of the list, append to the end of the list. \"\"\"\n",
    "        \n",
    "        # TODO: Write function to insert here\n",
    "        \n",
    "        pass\n",
    "    \n",
    "    def size(self):\n",
    "        \"\"\" Return the size or length of the linked list. \"\"\"\n",
    "        \n",
    "        \n",
    "        # TODO: Write function to get size here\n",
    "        \n",
    "        pass\n",
    "    \n",
    "    def to_list(self):\n",
    "        out = []\n",
    "        node = self.head\n",
    "        while node:\n",
    "            out.append(node.value)\n",
    "            node = node.next\n",
    "        return out"
   ]
  },
  {
   "cell_type": "code",
   "execution_count": 3,
   "metadata": {
    "graffitiCellId": "id_f9k83vl"
   },
   "outputs": [
    {
     "ename": "AttributeError",
     "evalue": "'NoneType' object has no attribute 'next'",
     "output_type": "error",
     "traceback": [
      "\u001b[0;31m---------------------------------------------------------------------------\u001b[0m",
      "\u001b[0;31mAttributeError\u001b[0m                            Traceback (most recent call last)",
      "\u001b[0;32m<ipython-input-3-8855208f3d17>\u001b[0m in \u001b[0;36m<module>\u001b[0;34m\u001b[0m\n\u001b[1;32m      5\u001b[0m \u001b[0mlinked_list\u001b[0m\u001b[0;34m.\u001b[0m\u001b[0mprepend\u001b[0m\u001b[0;34m(\u001b[0m\u001b[0;36m1\u001b[0m\u001b[0;34m)\u001b[0m\u001b[0;34m\u001b[0m\u001b[0;34m\u001b[0m\u001b[0m\n\u001b[1;32m      6\u001b[0m \u001b[0;32massert\u001b[0m \u001b[0mlinked_list\u001b[0m\u001b[0;34m.\u001b[0m\u001b[0mto_list\u001b[0m\u001b[0;34m(\u001b[0m\u001b[0;34m)\u001b[0m \u001b[0;34m==\u001b[0m \u001b[0;34m[\u001b[0m\u001b[0;36m1\u001b[0m\u001b[0;34m]\u001b[0m\u001b[0;34m,\u001b[0m \u001b[0;34mf\"list contents: {linked_list.to_list()}\"\u001b[0m\u001b[0;34m\u001b[0m\u001b[0;34m\u001b[0m\u001b[0m\n\u001b[0;32m----> 7\u001b[0;31m \u001b[0mlinked_list\u001b[0m\u001b[0;34m.\u001b[0m\u001b[0mappend\u001b[0m\u001b[0;34m(\u001b[0m\u001b[0;36m3\u001b[0m\u001b[0;34m)\u001b[0m\u001b[0;34m\u001b[0m\u001b[0;34m\u001b[0m\u001b[0m\n\u001b[0m\u001b[1;32m      8\u001b[0m \u001b[0mlinked_list\u001b[0m\u001b[0;34m.\u001b[0m\u001b[0mprepend\u001b[0m\u001b[0;34m(\u001b[0m\u001b[0;36m2\u001b[0m\u001b[0;34m)\u001b[0m\u001b[0;34m\u001b[0m\u001b[0;34m\u001b[0m\u001b[0m\n\u001b[1;32m      9\u001b[0m \u001b[0;32massert\u001b[0m \u001b[0mlinked_list\u001b[0m\u001b[0;34m.\u001b[0m\u001b[0mto_list\u001b[0m\u001b[0;34m(\u001b[0m\u001b[0;34m)\u001b[0m \u001b[0;34m==\u001b[0m \u001b[0;34m[\u001b[0m\u001b[0;36m2\u001b[0m\u001b[0;34m,\u001b[0m \u001b[0;36m1\u001b[0m\u001b[0;34m,\u001b[0m \u001b[0;36m3\u001b[0m\u001b[0;34m]\u001b[0m\u001b[0;34m,\u001b[0m \u001b[0;34mf\"list contents: {linked_list.to_list()}\"\u001b[0m\u001b[0;34m\u001b[0m\u001b[0;34m\u001b[0m\u001b[0m\n",
      "\u001b[0;32m<ipython-input-2-dd177953db3b>\u001b[0m in \u001b[0;36mappend\u001b[0;34m(self, value)\u001b[0m\n\u001b[1;32m     22\u001b[0m             \u001b[0;32mwhile\u001b[0m \u001b[0mnode\u001b[0m\u001b[0;34m:\u001b[0m\u001b[0;34m\u001b[0m\u001b[0;34m\u001b[0m\u001b[0m\n\u001b[1;32m     23\u001b[0m                 \u001b[0mnode\u001b[0m \u001b[0;34m=\u001b[0m \u001b[0mnode\u001b[0m\u001b[0;34m.\u001b[0m\u001b[0mnext\u001b[0m\u001b[0;34m\u001b[0m\u001b[0;34m\u001b[0m\u001b[0m\n\u001b[0;32m---> 24\u001b[0;31m             \u001b[0mnode\u001b[0m\u001b[0;34m.\u001b[0m\u001b[0mnext\u001b[0m \u001b[0;34m=\u001b[0m \u001b[0mNode\u001b[0m\u001b[0;34m(\u001b[0m\u001b[0mvalue\u001b[0m\u001b[0;34m)\u001b[0m\u001b[0;34m\u001b[0m\u001b[0;34m\u001b[0m\u001b[0m\n\u001b[0m\u001b[1;32m     25\u001b[0m \u001b[0;34m\u001b[0m\u001b[0m\n\u001b[1;32m     26\u001b[0m     \u001b[0;32mdef\u001b[0m \u001b[0msearch\u001b[0m\u001b[0;34m(\u001b[0m\u001b[0mself\u001b[0m\u001b[0;34m,\u001b[0m \u001b[0mvalue\u001b[0m\u001b[0;34m)\u001b[0m\u001b[0;34m:\u001b[0m\u001b[0;34m\u001b[0m\u001b[0;34m\u001b[0m\u001b[0m\n",
      "\u001b[0;31mAttributeError\u001b[0m: 'NoneType' object has no attribute 'next'"
     ]
    }
   ],
   "source": [
    "## Test your implementation here\n",
    "\n",
    "# Test prepend\n",
    "linked_list = LinkedList()\n",
    "linked_list.prepend(1)\n",
    "assert linked_list.to_list() == [1], f\"list contents: {linked_list.to_list()}\"\n",
    "linked_list.append(3)\n",
    "linked_list.prepend(2)\n",
    "assert linked_list.to_list() == [2, 1, 3], f\"list contents: {linked_list.to_list()}\"\n",
    "    \n",
    "# Test append\n",
    "linked_list = LinkedList()\n",
    "linked_list.append(1)\n",
    "assert linked_list.to_list() == [1], f\"list contents: {linked_list.to_list()}\"\n",
    "linked_list.append(3)\n",
    "assert linked_list.to_list() == [1, 3], f\"list contents: {linked_list.to_list()}\"\n",
    "\n",
    "# Test search\n",
    "linked_list.prepend(2)\n",
    "linked_list.prepend(1)\n",
    "linked_list.append(4)\n",
    "linked_list.append(3)\n",
    "assert linked_list.search(1).value == 1, f\"list contents: {linked_list.to_list()}\"\n",
    "assert linked_list.search(4).value == 4, f\"list contents: {linked_list.to_list()}\"\n",
    "\n",
    "# Test remove\n",
    "linked_list.remove(1)\n",
    "assert linked_list.to_list() == [2, 1, 3, 4, 3], f\"list contents: {linked_list.to_list()}\"\n",
    "linked_list.remove(3)\n",
    "assert linked_list.to_list() == [2, 1, 4, 3], f\"list contents: {linked_list.to_list()}\"\n",
    "linked_list.remove(3)\n",
    "assert linked_list.to_list() == [2, 1, 4], f\"list contents: {linked_list.to_list()}\"\n",
    "\n",
    "# Test pop\n",
    "value = linked_list.pop()\n",
    "assert value == 2, f\"list contents: {linked_list.to_list()}\"\n",
    "assert linked_list.head.value == 1, f\"list contents: {linked_list.to_list()}\"\n",
    "\n",
    "# Test insert \n",
    "linked_list.insert(5, 0)\n",
    "assert linked_list.to_list() == [5, 1, 4], f\"list contents: {linked_list.to_list()}\"\n",
    "linked_list.insert(2, 1)\n",
    "assert linked_list.to_list() == [5, 2, 1, 4], f\"list contents: {linked_list.to_list()}\"\n",
    "linked_list.insert(3, 6)\n",
    "assert linked_list.to_list() == [5, 2, 1, 4, 3], f\"list contents: {linked_list.to_list()}\"\n",
    "\n",
    "# Test size\n",
    "assert linked_list.size() == 5, f\"list contents: {linked_list.to_list()}\""
   ]
  },
  {
   "cell_type": "markdown",
   "metadata": {
    "graffitiCellId": "id_hpn7l32"
   },
   "source": [
    "<span class=\"graffiti-highlight graffiti-id_hpn7l32-id_xaqiyxe\"><i></i><button>Show Solution</button></span>"
   ]
  }
 ],
 "metadata": {
  "graffiti": {
   "firstAuthorId": "10694620118",
   "id": "id_9v48ov8",
   "language": "EN"
  },
  "kernelspec": {
   "display_name": "Python 3",
   "language": "python",
   "name": "python3"
  },
  "language_info": {
   "codemirror_mode": {
    "name": "ipython",
    "version": 3
   },
   "file_extension": ".py",
   "mimetype": "text/x-python",
   "name": "python",
   "nbconvert_exporter": "python",
   "pygments_lexer": "ipython3",
   "version": "3.7.7"
  }
 },
 "nbformat": 4,
 "nbformat_minor": 2
}
